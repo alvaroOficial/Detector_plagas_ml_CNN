{
  "cells": [
    {
      "cell_type": "code",
      "execution_count": null,
      "metadata": {
        "colab": {
          "base_uri": "https://localhost:8080/"
        },
        "id": "gzAn4-Kvl4HN",
        "outputId": "a852701f-dd19-4814-b2c2-5bbfebf1489a"
      },
      "outputs": [
        {
          "name": "stdout",
          "output_type": "stream",
          "text": [
            "Requirement already satisfied: tensorflow in /usr/local/lib/python3.10/dist-packages (2.15.0)\n",
            "Requirement already satisfied: absl-py>=1.0.0 in /usr/local/lib/python3.10/dist-packages (from tensorflow) (1.4.0)\n",
            "Requirement already satisfied: astunparse>=1.6.0 in /usr/local/lib/python3.10/dist-packages (from tensorflow) (1.6.3)\n",
            "Requirement already satisfied: flatbuffers>=23.5.26 in /usr/local/lib/python3.10/dist-packages (from tensorflow) (23.5.26)\n",
            "Requirement already satisfied: gast!=0.5.0,!=0.5.1,!=0.5.2,>=0.2.1 in /usr/local/lib/python3.10/dist-packages (from tensorflow) (0.5.4)\n",
            "Requirement already satisfied: google-pasta>=0.1.1 in /usr/local/lib/python3.10/dist-packages (from tensorflow) (0.2.0)\n",
            "Requirement already satisfied: h5py>=2.9.0 in /usr/local/lib/python3.10/dist-packages (from tensorflow) (3.9.0)\n",
            "Requirement already satisfied: libclang>=13.0.0 in /usr/local/lib/python3.10/dist-packages (from tensorflow) (16.0.6)\n",
            "Requirement already satisfied: ml-dtypes~=0.2.0 in /usr/local/lib/python3.10/dist-packages (from tensorflow) (0.2.0)\n",
            "Requirement already satisfied: numpy<2.0.0,>=1.23.5 in /usr/local/lib/python3.10/dist-packages (from tensorflow) (1.23.5)\n",
            "Requirement already satisfied: opt-einsum>=2.3.2 in /usr/local/lib/python3.10/dist-packages (from tensorflow) (3.3.0)\n",
            "Requirement already satisfied: packaging in /usr/local/lib/python3.10/dist-packages (from tensorflow) (23.2)\n",
            "Requirement already satisfied: protobuf!=4.21.0,!=4.21.1,!=4.21.2,!=4.21.3,!=4.21.4,!=4.21.5,<5.0.0dev,>=3.20.3 in /usr/local/lib/python3.10/dist-packages (from tensorflow) (3.20.3)\n",
            "Requirement already satisfied: setuptools in /usr/local/lib/python3.10/dist-packages (from tensorflow) (67.7.2)\n",
            "Requirement already satisfied: six>=1.12.0 in /usr/local/lib/python3.10/dist-packages (from tensorflow) (1.16.0)\n",
            "Requirement already satisfied: termcolor>=1.1.0 in /usr/local/lib/python3.10/dist-packages (from tensorflow) (2.4.0)\n",
            "Requirement already satisfied: typing-extensions>=3.6.6 in /usr/local/lib/python3.10/dist-packages (from tensorflow) (4.5.0)\n",
            "Requirement already satisfied: wrapt<1.15,>=1.11.0 in /usr/local/lib/python3.10/dist-packages (from tensorflow) (1.14.1)\n",
            "Requirement already satisfied: tensorflow-io-gcs-filesystem>=0.23.1 in /usr/local/lib/python3.10/dist-packages (from tensorflow) (0.35.0)\n",
            "Requirement already satisfied: grpcio<2.0,>=1.24.3 in /usr/local/lib/python3.10/dist-packages (from tensorflow) (1.60.0)\n",
            "Requirement already satisfied: tensorboard<2.16,>=2.15 in /usr/local/lib/python3.10/dist-packages (from tensorflow) (2.15.1)\n",
            "Requirement already satisfied: tensorflow-estimator<2.16,>=2.15.0 in /usr/local/lib/python3.10/dist-packages (from tensorflow) (2.15.0)\n",
            "Requirement already satisfied: keras<2.16,>=2.15.0 in /usr/local/lib/python3.10/dist-packages (from tensorflow) (2.15.0)\n",
            "Requirement already satisfied: wheel<1.0,>=0.23.0 in /usr/local/lib/python3.10/dist-packages (from astunparse>=1.6.0->tensorflow) (0.42.0)\n",
            "Requirement already satisfied: google-auth<3,>=1.6.3 in /usr/local/lib/python3.10/dist-packages (from tensorboard<2.16,>=2.15->tensorflow) (2.17.3)\n",
            "Requirement already satisfied: google-auth-oauthlib<2,>=0.5 in /usr/local/lib/python3.10/dist-packages (from tensorboard<2.16,>=2.15->tensorflow) (1.2.0)\n",
            "Requirement already satisfied: markdown>=2.6.8 in /usr/local/lib/python3.10/dist-packages (from tensorboard<2.16,>=2.15->tensorflow) (3.5.1)\n",
            "Requirement already satisfied: requests<3,>=2.21.0 in /usr/local/lib/python3.10/dist-packages (from tensorboard<2.16,>=2.15->tensorflow) (2.31.0)\n",
            "Requirement already satisfied: tensorboard-data-server<0.8.0,>=0.7.0 in /usr/local/lib/python3.10/dist-packages (from tensorboard<2.16,>=2.15->tensorflow) (0.7.2)\n",
            "Requirement already satisfied: werkzeug>=1.0.1 in /usr/local/lib/python3.10/dist-packages (from tensorboard<2.16,>=2.15->tensorflow) (3.0.1)\n",
            "Requirement already satisfied: cachetools<6.0,>=2.0.0 in /usr/local/lib/python3.10/dist-packages (from google-auth<3,>=1.6.3->tensorboard<2.16,>=2.15->tensorflow) (5.3.2)\n",
            "Requirement already satisfied: pyasn1-modules>=0.2.1 in /usr/local/lib/python3.10/dist-packages (from google-auth<3,>=1.6.3->tensorboard<2.16,>=2.15->tensorflow) (0.3.0)\n",
            "Requirement already satisfied: rsa<5,>=3.1.4 in /usr/local/lib/python3.10/dist-packages (from google-auth<3,>=1.6.3->tensorboard<2.16,>=2.15->tensorflow) (4.9)\n",
            "Requirement already satisfied: requests-oauthlib>=0.7.0 in /usr/local/lib/python3.10/dist-packages (from google-auth-oauthlib<2,>=0.5->tensorboard<2.16,>=2.15->tensorflow) (1.3.1)\n",
            "Requirement already satisfied: charset-normalizer<4,>=2 in /usr/local/lib/python3.10/dist-packages (from requests<3,>=2.21.0->tensorboard<2.16,>=2.15->tensorflow) (3.3.2)\n",
            "Requirement already satisfied: idna<4,>=2.5 in /usr/local/lib/python3.10/dist-packages (from requests<3,>=2.21.0->tensorboard<2.16,>=2.15->tensorflow) (3.6)\n",
            "Requirement already satisfied: urllib3<3,>=1.21.1 in /usr/local/lib/python3.10/dist-packages (from requests<3,>=2.21.0->tensorboard<2.16,>=2.15->tensorflow) (2.0.7)\n",
            "Requirement already satisfied: certifi>=2017.4.17 in /usr/local/lib/python3.10/dist-packages (from requests<3,>=2.21.0->tensorboard<2.16,>=2.15->tensorflow) (2023.11.17)\n",
            "Requirement already satisfied: MarkupSafe>=2.1.1 in /usr/local/lib/python3.10/dist-packages (from werkzeug>=1.0.1->tensorboard<2.16,>=2.15->tensorflow) (2.1.3)\n",
            "Requirement already satisfied: pyasn1<0.6.0,>=0.4.6 in /usr/local/lib/python3.10/dist-packages (from pyasn1-modules>=0.2.1->google-auth<3,>=1.6.3->tensorboard<2.16,>=2.15->tensorflow) (0.5.1)\n",
            "Requirement already satisfied: oauthlib>=3.0.0 in /usr/local/lib/python3.10/dist-packages (from requests-oauthlib>=0.7.0->google-auth-oauthlib<2,>=0.5->tensorboard<2.16,>=2.15->tensorflow) (3.2.2)\n"
          ]
        }
      ],
      "source": [
        "!pip install tensorflow"
      ]
    },
    {
      "cell_type": "code",
      "execution_count": 1,
      "metadata": {
        "id": "LxQ3yB3QlzAF"
      },
      "outputs": [],
      "source": [
        "#Importar librerias necesarias\n",
        "import sys\n",
        "import os\n",
        "import itertools\n",
        "\n",
        "from tensorflow.keras.preprocessing.image import ImageDataGenerator\n",
        "from tensorflow.keras import optimizers\n",
        "from tensorflow.keras.models import Sequential\n",
        "from tensorflow.keras.layers import Dropout, Flatten, Dense, Activation\n",
        "from tensorflow.keras.layers import Convolution2D, MaxPooling2D\n",
        "from tensorflow.keras import backend as K\n",
        "\n",
        "K.clear_session()\n",
        "\n"
      ]
    },
    {
      "cell_type": "code",
      "execution_count": 2,
      "metadata": {
        "colab": {
          "base_uri": "https://localhost:8080/"
        },
        "id": "NFMcZptJsZTP",
        "outputId": "67a074d9-4a13-4c34-e28a-29f83eda7c8d"
      },
      "outputs": [
        {
          "name": "stdout",
          "output_type": "stream",
          "text": [
            "Found 747 images belonging to 3 classes.\n",
            "Found 122 images belonging to 3 classes.\n"
          ]
        },
        {
          "name": "stderr",
          "output_type": "stream",
          "text": [
            "<ipython-input-2-cf14e97136e2>:70: UserWarning: `Model.fit_generator` is deprecated and will be removed in a future version. Please use `Model.fit`, which supports generators.\n",
            "  cnn.fit_generator(\n"
          ]
        },
        {
          "name": "stdout",
          "output_type": "stream",
          "text": [
            "Epoch 1/20\n",
            "100/100 [==============================] - ETA: 0s - loss: 1.0208 - accuracy: 0.5924"
          ]
        },
        {
          "name": "stderr",
          "output_type": "stream",
          "text": [
            "WARNING:tensorflow:Your input ran out of data; interrupting training. Make sure that your dataset or generator can generate at least `steps_per_epoch * epochs` batches (in this case, 10 batches). You may need to use the repeat() function when building your dataset.\n"
          ]
        },
        {
          "name": "stdout",
          "output_type": "stream",
          "text": [
            "\b\b\b\b\b\b\b\b\b\b\b\b\b\b\b\b\b\b\b\b\b\b\b\b\b\b\b\b\b\b\b\b\b\b\b\b\b\b\b\b\b\b\b\b\b\b\b\b\b\b\b\b\b\b\b\b\b\b\b\b\b\b\b\b\b\b\b\b\b\b\b\b\b\b\b\b\b\b\b\b\b\b\b\b\r100/100 [==============================] - 168s 2s/step - loss: 1.0208 - accuracy: 0.5924 - val_loss: 0.8369 - val_accuracy: 0.6230\n",
            "Epoch 2/20\n",
            "100/100 [==============================] - 45s 448ms/step - loss: 0.8056 - accuracy: 0.6693\n",
            "Epoch 3/20\n",
            "100/100 [==============================] - 46s 462ms/step - loss: 0.8008 - accuracy: 0.6754\n",
            "Epoch 4/20\n",
            "100/100 [==============================] - 45s 446ms/step - loss: 0.7319 - accuracy: 0.7015\n",
            "Epoch 5/20\n",
            "100/100 [==============================] - 45s 447ms/step - loss: 0.6871 - accuracy: 0.7129\n",
            "Epoch 6/20\n",
            "100/100 [==============================] - 45s 451ms/step - loss: 0.6614 - accuracy: 0.7363\n",
            "Epoch 7/20\n",
            "100/100 [==============================] - 46s 456ms/step - loss: 0.6476 - accuracy: 0.7262\n",
            "Epoch 8/20\n",
            "100/100 [==============================] - 45s 455ms/step - loss: 0.6382 - accuracy: 0.7303\n",
            "Epoch 9/20\n",
            "100/100 [==============================] - 45s 451ms/step - loss: 0.6143 - accuracy: 0.7477\n",
            "Epoch 10/20\n",
            "100/100 [==============================] - 46s 459ms/step - loss: 0.5590 - accuracy: 0.7664\n",
            "Epoch 11/20\n",
            "100/100 [==============================] - 45s 447ms/step - loss: 0.5408 - accuracy: 0.7610\n",
            "Epoch 12/20\n",
            "100/100 [==============================] - 45s 451ms/step - loss: 0.5351 - accuracy: 0.7744\n",
            "Epoch 13/20\n",
            "100/100 [==============================] - 44s 445ms/step - loss: 0.5532 - accuracy: 0.7691\n",
            "Epoch 14/20\n",
            "100/100 [==============================] - 50s 505ms/step - loss: 0.5175 - accuracy: 0.7818\n",
            "Epoch 15/20\n",
            "100/100 [==============================] - 44s 444ms/step - loss: 0.5377 - accuracy: 0.7684\n",
            "Epoch 16/20\n",
            "100/100 [==============================] - 45s 444ms/step - loss: 0.4540 - accuracy: 0.8146\n",
            "Epoch 17/20\n",
            "100/100 [==============================] - 44s 443ms/step - loss: 0.4681 - accuracy: 0.8092\n",
            "Epoch 18/20\n",
            "100/100 [==============================] - 45s 448ms/step - loss: 0.4715 - accuracy: 0.8133\n",
            "Epoch 19/20\n",
            "100/100 [==============================] - 45s 452ms/step - loss: 0.4816 - accuracy: 0.8066\n",
            "Epoch 20/20\n",
            "100/100 [==============================] - 45s 453ms/step - loss: 0.4385 - accuracy: 0.8293\n"
          ]
        },
        {
          "data": {
            "text/plain": [
              "<keras.src.callbacks.History at 0x79d628508820>"
            ]
          },
          "execution_count": 2,
          "metadata": {},
          "output_type": "execute_result"
        }
      ],
      "source": [
        "#Importar el dataset\n",
        "data_entrenamiento = 'C:/Users/jamer/Documents/Detector_plagas_cnn/dataset/train''\n",
        "data_validacion = 'C:/Users/jamer/Documents/Detector_plagas_cnn/dataset/test'\n",
        "\n",
        "#numero de evaluaciones del modelo\n",
        "epocas=20\n",
        "#tamanio imagenes\n",
        "longitud, altura = 150, 100\n",
        "batch_size = 15\n",
        "#Parametros\n",
        "pasos = 100\n",
        "validation_steps = 10\n",
        "filtrosConv1 = 32\n",
        "filtrosConv2 = 64\n",
        "tamano_filtro1 = (3, 3)\n",
        "tamano_filtro2 = (2, 2)\n",
        "tamano_pool = (2, 2)\n",
        "clases = 3\n",
        "lr = 0.0004\n",
        "\n",
        "\n",
        "##Preparamos nuestras imagenes\n",
        "\n",
        "#Generar el entrenamiento modificando parametros de la imagen\n",
        "entrenamiento_datagen = ImageDataGenerator(\n",
        "    rescale=1. / 255,\n",
        "    shear_range=0.2,\n",
        "    zoom_range=0.2,\n",
        "    horizontal_flip=True,\n",
        "    rotation_range=10,  # Agregar rotación\n",
        "    width_shift_range=0.2,  # Cambio horizontal\n",
        "    height_shift_range=0.2,  # Cambio vertical\n",
        "    brightness_range=[0.8, 1.2],  # Cambio de brillo\n",
        "    fill_mode='nearest'  # Modo de relleno\n",
        ")\n",
        "#Reescalar la imagen de 0 a 1 para reducir el error\n",
        "test_datagen = ImageDataGenerator(rescale=1. / 255)\n",
        "\n",
        "entrenamiento_generador = entrenamiento_datagen.flow_from_directory(\n",
        "    data_entrenamiento,\n",
        "    target_size=(altura, longitud),\n",
        "    batch_size=batch_size,\n",
        "    class_mode='categorical')\n",
        "\n",
        "entrenamiento_generador = itertools.cycle(entrenamiento_generador)\n",
        "\n",
        "validacion_generador = test_datagen.flow_from_directory(\n",
        "    data_validacion,\n",
        "    target_size=(altura, longitud),\n",
        "    batch_size=batch_size,\n",
        "    class_mode='categorical')\n",
        "\n",
        "#Definir redes\n",
        "\n",
        "cnn = Sequential()\n",
        "cnn.add(Convolution2D(filtrosConv1, tamano_filtro1, padding =\"same\", input_shape=(longitud, altura, 3), activation='relu'))\n",
        "cnn.add(MaxPooling2D(pool_size=tamano_pool))\n",
        "\n",
        "cnn.add(Convolution2D(filtrosConv2, tamano_filtro2, padding =\"same\"))\n",
        "cnn.add(MaxPooling2D(pool_size=tamano_pool))\n",
        "\n",
        "cnn.add(Flatten())\n",
        "cnn.add(Dense(256, activation='relu'))\n",
        "cnn.add(Dropout(0.5))\n",
        "cnn.add(Dense(clases, activation='softmax'))\n",
        "\n",
        "cnn.compile(loss='categorical_crossentropy',\n",
        "            optimizer=optimizers.Adam(learning_rate=lr),\n",
        "            metrics=['accuracy'])\n",
        "\n",
        "\n",
        "\n",
        "#Generar el modelo CNN\n",
        "cnn.fit_generator(\n",
        "    entrenamiento_generador,\n",
        "    steps_per_epoch=pasos,\n",
        "    epochs=epocas,\n",
        "    validation_data=validacion_generador,\n",
        "    validation_steps=validation_steps)\n",
        "\n",
        "\n"
      ]
    },
    {
      "cell_type": "code",
      "execution_count": 9,
      "metadata": {
        "id": "HWAEU4fDU5_a"
      },
      "outputs": [],
      "source": [
        "#Guarda el modelo y los pesos en la ruta deseada\n",
        "target_dir = '/content/drive/MyDrive/archive'\n",
        "if not os.path.exists(target_dir):\n",
        "  os.mkdir(target_dir)\n",
        "cnn.save('C:/Users/jamer/Documents/Detector_plagas_cnn/modelo/modelo.h5')\n",
        "cnn.save_weights('C:/Users/jamer/Documents/Detector_plagas_cnn/modelo/pesos.h5')"
      ]
    }
  ],
  "metadata": {
    "colab": {
      "provenance": []
    },
    "kernelspec": {
      "display_name": "Python 3",
      "name": "python3"
    },
    "language_info": {
      "name": "python"
    }
  },
  "nbformat": 4,
  "nbformat_minor": 0
}
